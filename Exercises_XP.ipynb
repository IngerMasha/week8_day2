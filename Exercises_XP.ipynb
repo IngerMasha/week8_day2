{
  "nbformat": 4,
  "nbformat_minor": 0,
  "metadata": {
    "colab": {
      "provenance": [],
      "authorship_tag": "ABX9TyPjivl/XS6cIULZGP1uUZGs",
      "include_colab_link": true
    },
    "kernelspec": {
      "name": "python3",
      "display_name": "Python 3"
    },
    "language_info": {
      "name": "python"
    }
  },
  "cells": [
    {
      "cell_type": "markdown",
      "metadata": {
        "id": "view-in-github",
        "colab_type": "text"
      },
      "source": [
        "<a href=\"https://colab.research.google.com/github/IngerMasha/week8_day2/blob/main/Exercises_XP.ipynb\" target=\"_parent\"><img src=\"https://colab.research.google.com/assets/colab-badge.svg\" alt=\"Open In Colab\"/></a>"
      ]
    },
    {
      "cell_type": "markdown",
      "source": [
        "Exercise 1: Duplicate Detection And Removal"
      ],
      "metadata": {
        "id": "NiTHPwc6lTLn"
      }
    },
    {
      "cell_type": "code",
      "execution_count": 17,
      "metadata": {
        "colab": {
          "base_uri": "https://localhost:8080/"
        },
        "id": "4QB2tZf3kpus",
        "outputId": "4df291b1-41ec-46a1-abbf-bf07bad6d03d"
      },
      "outputs": [
        {
          "output_type": "stream",
          "name": "stdout",
          "text": [
            "First rows DataFrame:\n",
            "   PassengerId  Survived  Pclass  \\\n",
            "0            1         0       3   \n",
            "1            2         1       1   \n",
            "2            3         1       3   \n",
            "3            4         1       1   \n",
            "4            5         0       3   \n",
            "\n",
            "                                                Name     Sex   Age  SibSp  \\\n",
            "0                            Braund, Mr. Owen Harris    male  22.0      1   \n",
            "1  Cumings, Mrs. John Bradley (Florence Briggs Th...  female  38.0      1   \n",
            "2                             Heikkinen, Miss. Laina  female  26.0      0   \n",
            "3       Futrelle, Mrs. Jacques Heath (Lily May Peel)  female  35.0      1   \n",
            "4                           Allen, Mr. William Henry    male  35.0      0   \n",
            "\n",
            "   Parch            Ticket     Fare Cabin Embarked  \n",
            "0      0         A/5 21171   7.2500   NaN        S  \n",
            "1      0          PC 17599  71.2833   C85        C  \n",
            "2      0  STON/O2. 3101282   7.9250   NaN        S  \n",
            "3      0            113803  53.1000  C123        S  \n",
            "4      0            373450   8.0500   NaN        S  \n"
          ]
        }
      ],
      "source": [
        "import pandas as pd\n",
        "\n",
        "# titanic_data = pd.read_csv('/content/test.csv')\n",
        "# titanic_data = pd.read_csv('/content/gender_submission.csv')\n",
        "# titanic_data = pd.read_csv('/content/train.csv')\n",
        "titanic_data = pd.read_csv('/content/train2.csv')\n",
        "\n",
        "print(\"First rows DataFrame:\")\n",
        "print(titanic_data.head())\n"
      ]
    },
    {
      "cell_type": "code",
      "source": [
        "duplicates = titanic_data.duplicated()\n",
        "print(f\"Number of duplicates: {duplicates.sum()}\")\n",
        "# The number of duplicates is zero.\n"
      ],
      "metadata": {
        "colab": {
          "base_uri": "https://localhost:8080/"
        },
        "id": "SEE90r6ZlWCX",
        "outputId": "4b7e1ab9-4472-4e66-9398-ef33089584de"
      },
      "execution_count": 16,
      "outputs": [
        {
          "output_type": "stream",
          "name": "stdout",
          "text": [
            "Number of duplicates: 0\n"
          ]
        }
      ]
    },
    {
      "cell_type": "code",
      "source": [
        "missing_values = titanic_data.isnull().sum()\n",
        "print(\"Missing values ​​in each column:\")\n",
        "print(missing_values[missing_values > 0])"
      ],
      "metadata": {
        "colab": {
          "base_uri": "https://localhost:8080/"
        },
        "id": "HZH_2mZAtFmt",
        "outputId": "9453a700-3934-40f7-c4dd-1d97f22fa2e7"
      },
      "execution_count": 15,
      "outputs": [
        {
          "output_type": "stream",
          "name": "stdout",
          "text": [
            "Пропущенные значения в каждом столбце:\n",
            "Age         177\n",
            "Cabin       687\n",
            "Embarked      2\n",
            "dtype: int64\n"
          ]
        }
      ]
    },
    {
      "cell_type": "code",
      "source": [
        "titanic_df_dropped = titanic_data.dropna()\n",
        "print(f\"Number of rows after dropping missing values: {len(titanic_df_dropped)}\")\n"
      ],
      "metadata": {
        "colab": {
          "base_uri": "https://localhost:8080/"
        },
        "id": "ZFIChBoPvXiX",
        "outputId": "f37fd426-42b6-4a0f-82c6-c09d7a48bbc2"
      },
      "execution_count": 19,
      "outputs": [
        {
          "output_type": "stream",
          "name": "stdout",
          "text": [
            "Number of rows after dropping missing values: 183\n"
          ]
        }
      ]
    },
    {
      "cell_type": "code",
      "source": [
        "titanic_df_filled_const = titanic_data.copy()\n",
        "titanic_df_filled_const['Embarked'].fillna('S', inplace=True)\n",
        "print(f\"Filling missing values ​​in a column with a constant: {titanic_df_filled_const['Embarked'].isnull().sum()}\")\n"
      ],
      "metadata": {
        "colab": {
          "base_uri": "https://localhost:8080/"
        },
        "id": "DTPQbUIivgtS",
        "outputId": "561da32c-2c7f-45fa-b626-6c0f01873d95"
      },
      "execution_count": 21,
      "outputs": [
        {
          "output_type": "stream",
          "name": "stdout",
          "text": [
            "Number of rows after dropping missing values: 183\n",
            "Filling missing values ​​in a column with a constant: 0\n"
          ]
        }
      ]
    },
    {
      "cell_type": "code",
      "source": [
        "from sklearn.impute import SimpleImputer\n",
        "\n",
        "print(f\"missing values ​​in a column 'Age' before: {titanic_data['Age'].isnull().sum()}\")\n",
        "\n",
        "imputer = SimpleImputer(strategy='mean')\n",
        "titanic_data_imputed = titanic_data.copy()\n",
        "titanic_data_imputed['Age'] = imputer.fit_transform(titanic_data[['Age']])\n",
        "print(f\"missing values ​​in a column 'Age' after: {titanic_data_imputed['Age'].isnull().sum()}\")\n"
      ],
      "metadata": {
        "colab": {
          "base_uri": "https://localhost:8080/"
        },
        "id": "MDS2oaXDwtXh",
        "outputId": "4bb0e9fe-f91b-445c-bb3e-872967ab1f27"
      },
      "execution_count": 23,
      "outputs": [
        {
          "output_type": "stream",
          "name": "stdout",
          "text": [
            "Пропущенные значения в столбце 'Age' до импутации: 177\n",
            "Пропущенные значения в столбце 'Age' после импутации: 0\n"
          ]
        }
      ]
    },
    {
      "cell_type": "markdown",
      "source": [
        "Exercise 3: Feature Engineering"
      ],
      "metadata": {
        "id": "1qIiTajF-nwO"
      }
    },
    {
      "cell_type": "code",
      "source": [
        "import pandas as pd\n",
        "\n",
        "titanic_data['Family_Size'] = titanic_data['SibSp'] + titanic_data['Parch'] + 1\n",
        "print(titanic_data[['SibSp', 'Parch', 'Family_Size']].head())"
      ],
      "metadata": {
        "colab": {
          "base_uri": "https://localhost:8080/"
        },
        "id": "To4VR-kF-m18",
        "outputId": "e9aefb98-8575-401f-d2e4-20013ea63d4e"
      },
      "execution_count": 24,
      "outputs": [
        {
          "output_type": "stream",
          "name": "stdout",
          "text": [
            "   SibSp  Parch  Family_Size\n",
            "0      1      0            2\n",
            "1      1      0            2\n",
            "2      0      0            1\n",
            "3      1      0            2\n",
            "4      0      0            1\n"
          ]
        }
      ]
    },
    {
      "cell_type": "code",
      "source": [
        "import re\n",
        "\n",
        "def extract_title(name):\n",
        "    title_search = re.search(' ([A-Za-z]+)\\.', name)\n",
        "    if title_search:\n",
        "        return title_search.group(1)\n",
        "    return \"\"\n",
        "\n",
        "titanic_data['Title'] = titanic_data['Name'].apply(extract_title)\n",
        "print(titanic_data[['Name', 'Title']].head())"
      ],
      "metadata": {
        "colab": {
          "base_uri": "https://localhost:8080/"
        },
        "id": "60NmBMv4-3LU",
        "outputId": "e9db2174-dac9-422b-efe6-224e5b217813"
      },
      "execution_count": 26,
      "outputs": [
        {
          "output_type": "stream",
          "name": "stdout",
          "text": [
            "                                                Name Title\n",
            "0                            Braund, Mr. Owen Harris    Mr\n",
            "1  Cumings, Mrs. John Bradley (Florence Briggs Th...   Mrs\n",
            "2                             Heikkinen, Miss. Laina  Miss\n",
            "3       Futrelle, Mrs. Jacques Heath (Lily May Peel)   Mrs\n",
            "4                           Allen, Mr. William Henry    Mr\n"
          ]
        }
      ]
    },
    {
      "cell_type": "code",
      "source": [
        "titanic_data= pd.get_dummies(titanic_data, columns=['Embarked'], prefix='Embarked')\n",
        "print(titanic_data.head())"
      ],
      "metadata": {
        "colab": {
          "base_uri": "https://localhost:8080/"
        },
        "id": "TW6AB9pb_ar3",
        "outputId": "41bbd8f0-af30-43f9-e83e-3156b80a660c"
      },
      "execution_count": 27,
      "outputs": [
        {
          "output_type": "stream",
          "name": "stdout",
          "text": [
            "   PassengerId  Survived  Pclass  \\\n",
            "0            1         0       3   \n",
            "1            2         1       1   \n",
            "2            3         1       3   \n",
            "3            4         1       1   \n",
            "4            5         0       3   \n",
            "\n",
            "                                                Name     Sex   Age  SibSp  \\\n",
            "0                            Braund, Mr. Owen Harris    male  22.0      1   \n",
            "1  Cumings, Mrs. John Bradley (Florence Briggs Th...  female  38.0      1   \n",
            "2                             Heikkinen, Miss. Laina  female  26.0      0   \n",
            "3       Futrelle, Mrs. Jacques Heath (Lily May Peel)  female  35.0      1   \n",
            "4                           Allen, Mr. William Henry    male  35.0      0   \n",
            "\n",
            "   Parch            Ticket     Fare Cabin  Family_Size Title  Embarked_C  \\\n",
            "0      0         A/5 21171   7.2500   NaN            2    Mr       False   \n",
            "1      0          PC 17599  71.2833   C85            2   Mrs        True   \n",
            "2      0  STON/O2. 3101282   7.9250   NaN            1  Miss       False   \n",
            "3      0            113803  53.1000  C123            2   Mrs       False   \n",
            "4      0            373450   8.0500   NaN            1    Mr       False   \n",
            "\n",
            "   Embarked_Q  Embarked_S  \n",
            "0       False        True  \n",
            "1       False       False  \n",
            "2       False        True  \n",
            "3       False        True  \n",
            "4       False        True  \n"
          ]
        }
      ]
    },
    {
      "cell_type": "code",
      "source": [
        "titanic_data['Title'] = titanic_data['Title'].astype('category').cat.codes\n",
        "print(titanic_data[['Name', 'Title']].head())"
      ],
      "metadata": {
        "colab": {
          "base_uri": "https://localhost:8080/"
        },
        "id": "X3HhKrfM_vj6",
        "outputId": "6fea4b1c-4455-4cb6-ed16-aed2053d5c78"
      },
      "execution_count": 28,
      "outputs": [
        {
          "output_type": "stream",
          "name": "stdout",
          "text": [
            "                                                Name  Title\n",
            "0                            Braund, Mr. Owen Harris     12\n",
            "1  Cumings, Mrs. John Bradley (Florence Briggs Th...     13\n",
            "2                             Heikkinen, Miss. Laina      9\n",
            "3       Futrelle, Mrs. Jacques Heath (Lily May Peel)     13\n",
            "4                           Allen, Mr. William Henry     12\n"
          ]
        }
      ]
    },
    {
      "cell_type": "code",
      "source": [
        "from sklearn.preprocessing import StandardScaler\n",
        "\n",
        "scaler = StandardScaler()\n",
        "titanic_data[['Age', 'Fare']] = scaler.fit_transform(titanic_data[['Age', 'Fare']])\n",
        "print(titanic_data[['Age', 'Fare']].head())"
      ],
      "metadata": {
        "colab": {
          "base_uri": "https://localhost:8080/"
        },
        "id": "Vib3aO0l_8ww",
        "outputId": "721c67a8-adcd-42df-b1d3-142eda7e8cf9"
      },
      "execution_count": 30,
      "outputs": [
        {
          "output_type": "stream",
          "name": "stdout",
          "text": [
            "        Age      Fare\n",
            "0 -0.530377 -0.502445\n",
            "1  0.571831  0.786845\n",
            "2 -0.254825 -0.488854\n",
            "3  0.365167  0.420730\n",
            "4  0.365167 -0.486337\n"
          ]
        }
      ]
    },
    {
      "cell_type": "markdown",
      "source": [
        "Exercise 4: Outlier Detection And Handling"
      ],
      "metadata": {
        "id": "07mY2dm5AVY1"
      }
    },
    {
      "cell_type": "code",
      "source": [
        "import pandas as pd\n",
        "titanic_data = pd.read_csv('/content/train2.csv')\n",
        "\n",
        "print(\"First rows DataFrame:\")\n",
        "print(titanic_data.head())"
      ],
      "metadata": {
        "colab": {
          "base_uri": "https://localhost:8080/"
        },
        "id": "IYp-_pfZAYfE",
        "outputId": "4d9afc14-cbbb-4159-bf24-a3b4bc2009d8"
      },
      "execution_count": 31,
      "outputs": [
        {
          "output_type": "stream",
          "name": "stdout",
          "text": [
            "First rows DataFrame:\n",
            "   PassengerId  Survived  Pclass  \\\n",
            "0            1         0       3   \n",
            "1            2         1       1   \n",
            "2            3         1       3   \n",
            "3            4         1       1   \n",
            "4            5         0       3   \n",
            "\n",
            "                                                Name     Sex   Age  SibSp  \\\n",
            "0                            Braund, Mr. Owen Harris    male  22.0      1   \n",
            "1  Cumings, Mrs. John Bradley (Florence Briggs Th...  female  38.0      1   \n",
            "2                             Heikkinen, Miss. Laina  female  26.0      0   \n",
            "3       Futrelle, Mrs. Jacques Heath (Lily May Peel)  female  35.0      1   \n",
            "4                           Allen, Mr. William Henry    male  35.0      0   \n",
            "\n",
            "   Parch            Ticket     Fare Cabin Embarked  \n",
            "0      0         A/5 21171   7.2500   NaN        S  \n",
            "1      0          PC 17599  71.2833   C85        C  \n",
            "2      0  STON/O2. 3101282   7.9250   NaN        S  \n",
            "3      0            113803  53.1000  C123        S  \n",
            "4      0            373450   8.0500   NaN        S  \n"
          ]
        }
      ]
    },
    {
      "cell_type": "code",
      "source": [
        "def detect_outliers_iqr(df, column):\n",
        "    Q1 = df[column].quantile(0.25)\n",
        "    Q3 = df[column].quantile(0.75)\n",
        "    IQR = Q3 - Q1\n",
        "    lower_bound = Q1 - 1.5 * IQR\n",
        "    upper_bound = Q3 + 1.5 * IQR\n",
        "    outliers = df[(df[column] < lower_bound) | (df[column] > upper_bound)]\n",
        "    return outliers\n",
        "\n",
        "fare_outliers = detect_outliers_iqr(titanic_data, 'Fare')\n",
        "print(f\"Number of outliers per column 'Fare': {len(fare_outliers)}\")\n",
        "\n",
        "age_outliers = detect_outliers_iqr(titanic_data, 'Age')\n",
        "print(f\"Number of outliers per column 'Age': {len(age_outliers)}\")\n"
      ],
      "metadata": {
        "colab": {
          "base_uri": "https://localhost:8080/"
        },
        "id": "uOl5VujbCW1n",
        "outputId": "badebdcf-5f3e-4e26-9363-6faa7d0a5807"
      },
      "execution_count": 32,
      "outputs": [
        {
          "output_type": "stream",
          "name": "stdout",
          "text": [
            "Количество выбросов в столбце 'Fare': 116\n",
            "Количество выбросов в столбце 'Age': 11\n"
          ]
        }
      ]
    },
    {
      "cell_type": "code",
      "source": [
        "import numpy as np\n",
        "\n",
        "def cap_outliers(df, column):\n",
        "    Q1 = df[column].quantile(0.25)\n",
        "    Q3 = df[column].quantile(0.75)\n",
        "    IQR = Q3 - Q1\n",
        "    lower_bound = Q1 - 1.5 * IQR\n",
        "    upper_bound = Q3 + 1.5 * IQR\n",
        "    df[column] = np.where(df[column] < lower_bound, lower_bound, df[column])\n",
        "    df[column] = np.where(df[column] > upper_bound, upper_bound, df[column])\n",
        "\n",
        "cap_outliers(titanic_data, 'Fare')\n",
        "cap_outliers(titanic_data, 'Age')\n",
        "\n",
        "titanic_data['Fare_log'] = np.log1p(titanic_data['Fare'])\n",
        "titanic_data['Age_log'] = np.log1p(titanic_data['Age'])"
      ],
      "metadata": {
        "id": "LHas9oG3CotD"
      },
      "execution_count": 34,
      "outputs": []
    },
    {
      "cell_type": "code",
      "source": [
        "print(\"Statistical information after handling outliers in the 'Fare' column:\")\n",
        "print(titanic_data['Fare'].describe())\n",
        "\n",
        "print(\"Statistical information after handling outliers in the 'Age' column:\")\n",
        "print(titanic_data['Age'].describe())\n",
        "\n",
        "print(\"Statistical information after logarithmic transformation in the 'Fare_log' column:\")\n",
        "print(titanic_data['Fare_log'].describe())\n",
        "\n",
        "print(\"Statistical information after logarithmic transformation in the 'Age_log' column:\")\n",
        "print(titanic_data['Age_log'].describe())\n"
      ],
      "metadata": {
        "colab": {
          "base_uri": "https://localhost:8080/"
        },
        "id": "gUPjAyX1DLqS",
        "outputId": "c21dac84-9551-4d32-db56-7d0887a11646"
      },
      "execution_count": 35,
      "outputs": [
        {
          "output_type": "stream",
          "name": "stdout",
          "text": [
            "Statistical information after handling outliers in the 'Fare' column:\n",
            "count    891.000000\n",
            "mean      24.046813\n",
            "std       20.481625\n",
            "min        0.000000\n",
            "25%        7.910400\n",
            "50%       14.454200\n",
            "75%       31.000000\n",
            "max       65.634400\n",
            "Name: Fare, dtype: float64\n",
            "Statistical information after handling outliers in the 'Age' column:\n",
            "count    714.000000\n",
            "mean      29.622700\n",
            "std       14.316665\n",
            "min        0.420000\n",
            "25%       20.125000\n",
            "50%       28.000000\n",
            "75%       38.000000\n",
            "max       64.812500\n",
            "Name: Age, dtype: float64\n",
            "Statistical information after logarithmic transformation in the 'Fare_log' column:\n",
            "count    891.000000\n",
            "mean       2.893539\n",
            "std        0.835804\n",
            "min        0.000000\n",
            "25%        2.187218\n",
            "50%        2.737881\n",
            "75%        3.465736\n",
            "max        4.199221\n",
            "Name: Fare_log, dtype: float64\n",
            "Statistical information after logarithmic transformation in the 'Age_log' column:\n",
            "count    714.000000\n",
            "mean       3.257783\n",
            "std        0.682460\n",
            "min        0.350657\n",
            "25%        3.050405\n",
            "50%        3.367296\n",
            "75%        3.663562\n",
            "max        4.186810\n",
            "Name: Age_log, dtype: float64\n"
          ]
        }
      ]
    },
    {
      "cell_type": "markdown",
      "source": [
        " Exercise 5: Data Standardization And Normalization"
      ],
      "metadata": {
        "id": "84SGXulSFMfm"
      }
    },
    {
      "cell_type": "code",
      "source": [
        "import pandas as pd\n",
        "import numpy as np\n",
        "\n",
        "titanic_data = pd.read_csv('/content/train2.csv')\n",
        "\n",
        "print(titanic_data.describe())\n"
      ],
      "metadata": {
        "colab": {
          "base_uri": "https://localhost:8080/"
        },
        "id": "QeNJKJkeFQxm",
        "outputId": "151ad076-2810-4624-bcf7-990b0eec0376"
      },
      "execution_count": 37,
      "outputs": [
        {
          "output_type": "stream",
          "name": "stdout",
          "text": [
            "       PassengerId    Survived      Pclass         Age       SibSp  \\\n",
            "count   891.000000  891.000000  891.000000  714.000000  891.000000   \n",
            "mean    446.000000    0.383838    2.308642   29.699118    0.523008   \n",
            "std     257.353842    0.486592    0.836071   14.526497    1.102743   \n",
            "min       1.000000    0.000000    1.000000    0.420000    0.000000   \n",
            "25%     223.500000    0.000000    2.000000   20.125000    0.000000   \n",
            "50%     446.000000    0.000000    3.000000   28.000000    0.000000   \n",
            "75%     668.500000    1.000000    3.000000   38.000000    1.000000   \n",
            "max     891.000000    1.000000    3.000000   80.000000    8.000000   \n",
            "\n",
            "            Parch        Fare  \n",
            "count  891.000000  891.000000  \n",
            "mean     0.381594   32.204208  \n",
            "std      0.806057   49.693429  \n",
            "min      0.000000    0.000000  \n",
            "25%      0.000000    7.910400  \n",
            "50%      0.000000   14.454200  \n",
            "75%      0.000000   31.000000  \n",
            "max      6.000000  512.329200  \n"
          ]
        }
      ]
    },
    {
      "cell_type": "code",
      "source": [
        "from sklearn.preprocessing import StandardScaler, MinMaxScaler\n",
        "\n",
        "numerical_features = ['Age', 'Fare']\n",
        "scaler = StandardScaler()\n",
        "titanic_data[numerical_features] = scaler.fit_transform(titanic_data[numerical_features])\n",
        "print(\"Statistical information after standardization:\")\n",
        "print(titanic_data[numerical_features].describe())\n"
      ],
      "metadata": {
        "colab": {
          "base_uri": "https://localhost:8080/"
        },
        "id": "Nz1wLJqIFgbv",
        "outputId": "396f0019-74ca-4df4-94bc-eee4ece95191"
      },
      "execution_count": 38,
      "outputs": [
        {
          "output_type": "stream",
          "name": "stdout",
          "text": [
            "Statistical information after standardization:\n",
            "                Age          Fare\n",
            "count  7.140000e+02  8.910000e+02\n",
            "mean   2.388379e-16  3.987333e-18\n",
            "std    1.000701e+00  1.000562e+00\n",
            "min   -2.016979e+00 -6.484217e-01\n",
            "25%   -6.595416e-01 -4.891482e-01\n",
            "50%   -1.170488e-01 -3.573909e-01\n",
            "75%    5.718310e-01 -2.424635e-02\n",
            "max    3.465126e+00  9.667167e+00\n"
          ]
        }
      ]
    },
    {
      "cell_type": "code",
      "source": [
        "min_max_scaler = MinMaxScaler()\n",
        "titanic_data[numerical_features] = min_max_scaler.fit_transform(titanic_data[numerical_features])\n",
        "print(\"Statistical information after normalization:\")\n",
        "print(titanic_data[numerical_features].describe())\n"
      ],
      "metadata": {
        "colab": {
          "base_uri": "https://localhost:8080/"
        },
        "id": "NSM9Alt1F0nb",
        "outputId": "3335aedf-7af1-429b-b682-db384325deb9"
      },
      "execution_count": 39,
      "outputs": [
        {
          "output_type": "stream",
          "name": "stdout",
          "text": [
            "Статистическая информация после нормализации:\n",
            "              Age        Fare\n",
            "count  714.000000  891.000000\n",
            "mean     0.367921    0.062858\n",
            "std      0.182540    0.096995\n",
            "min      0.000000    0.000000\n",
            "25%      0.247612    0.015440\n",
            "50%      0.346569    0.028213\n",
            "75%      0.472229    0.060508\n",
            "max      1.000000    1.000000\n"
          ]
        }
      ]
    },
    {
      "cell_type": "markdown",
      "source": [
        "Exercise 6: Feature Encoding"
      ],
      "metadata": {
        "id": "T0Uv9kQyGXwO"
      }
    },
    {
      "cell_type": "code",
      "source": [
        "import pandas as pd\n",
        "from sklearn.preprocessing import LabelEncoder\n",
        "titanic_data = pd.read_csv('/content/train2.csv')\n",
        "categorical_columns = ['Sex', 'Embarked']\n",
        "for column in categorical_columns:\n",
        "    print(f\"Unique values in {column} column:\", titanic_data[column].unique())\n"
      ],
      "metadata": {
        "colab": {
          "base_uri": "https://localhost:8080/"
        },
        "id": "aF1Eez4gGMA9",
        "outputId": "272b153c-ad1d-41da-ef63-a717546603f6"
      },
      "execution_count": 40,
      "outputs": [
        {
          "output_type": "stream",
          "name": "stdout",
          "text": [
            "Unique values in Sex column: ['male' 'female']\n",
            "Unique values in Embarked column: ['S' 'C' 'Q' nan]\n"
          ]
        }
      ]
    },
    {
      "cell_type": "code",
      "source": [
        "titanic_df = pd.get_dummies(titanic_data, columns=['Sex', 'Embarked'], drop_first=True)\n",
        "\n",
        "print(titanic_df.head())"
      ],
      "metadata": {
        "colab": {
          "base_uri": "https://localhost:8080/"
        },
        "id": "jGXmnyISHJRZ",
        "outputId": "3ac2c858-2454-48a9-872e-ab0939af4dfe"
      },
      "execution_count": 41,
      "outputs": [
        {
          "output_type": "stream",
          "name": "stdout",
          "text": [
            "   PassengerId  Survived  Pclass  \\\n",
            "0            1         0       3   \n",
            "1            2         1       1   \n",
            "2            3         1       3   \n",
            "3            4         1       1   \n",
            "4            5         0       3   \n",
            "\n",
            "                                                Name   Age  SibSp  Parch  \\\n",
            "0                            Braund, Mr. Owen Harris  22.0      1      0   \n",
            "1  Cumings, Mrs. John Bradley (Florence Briggs Th...  38.0      1      0   \n",
            "2                             Heikkinen, Miss. Laina  26.0      0      0   \n",
            "3       Futrelle, Mrs. Jacques Heath (Lily May Peel)  35.0      1      0   \n",
            "4                           Allen, Mr. William Henry  35.0      0      0   \n",
            "\n",
            "             Ticket     Fare Cabin  Sex_male  Embarked_Q  Embarked_S  \n",
            "0         A/5 21171   7.2500   NaN      True       False        True  \n",
            "1          PC 17599  71.2833   C85     False       False       False  \n",
            "2  STON/O2. 3101282   7.9250   NaN     False       False        True  \n",
            "3            113803  53.1000  C123     False       False        True  \n",
            "4            373450   8.0500   NaN      True       False        True  \n"
          ]
        }
      ]
    },
    {
      "cell_type": "markdown",
      "source": [
        "Exercise 7: Data Transformation For Age Feature"
      ],
      "metadata": {
        "id": "AaCYSrADHUFK"
      }
    },
    {
      "cell_type": "code",
      "source": [
        "bins = [0, 12, 18, 35, 60, 100]\n",
        "labels = ['Child', 'Teenager', 'Adult', 'Middle-aged', 'Senior']\n",
        "titanic_data['AgeGroup'] = pd.cut(titanic_data['Age'], bins=bins, labels=labels)\n",
        "\n",
        "print(titanic_data['AgeGroup'].value_counts())"
      ],
      "metadata": {
        "colab": {
          "base_uri": "https://localhost:8080/"
        },
        "id": "KCFN0t1yHcT3",
        "outputId": "84f592e6-e889-4388-c967-e73157842030"
      },
      "execution_count": 43,
      "outputs": [
        {
          "output_type": "stream",
          "name": "stdout",
          "text": [
            "AgeGroup\n",
            "Adult          358\n",
            "Middle-aged    195\n",
            "Teenager        70\n",
            "Child           69\n",
            "Senior          22\n",
            "Name: count, dtype: int64\n"
          ]
        }
      ]
    },
    {
      "cell_type": "code",
      "source": [
        "titanic_data = pd.get_dummies(titanic_data, columns=['AgeGroup'])\n",
        "print(titanic_data.head())"
      ],
      "metadata": {
        "colab": {
          "base_uri": "https://localhost:8080/"
        },
        "id": "ypJp0DC-HqJ_",
        "outputId": "979ba899-ac65-4ac2-eed8-260b2b9b5d3e"
      },
      "execution_count": 44,
      "outputs": [
        {
          "output_type": "stream",
          "name": "stdout",
          "text": [
            "   PassengerId  Survived  Pclass  \\\n",
            "0            1         0       3   \n",
            "1            2         1       1   \n",
            "2            3         1       3   \n",
            "3            4         1       1   \n",
            "4            5         0       3   \n",
            "\n",
            "                                                Name     Sex   Age  SibSp  \\\n",
            "0                            Braund, Mr. Owen Harris    male  22.0      1   \n",
            "1  Cumings, Mrs. John Bradley (Florence Briggs Th...  female  38.0      1   \n",
            "2                             Heikkinen, Miss. Laina  female  26.0      0   \n",
            "3       Futrelle, Mrs. Jacques Heath (Lily May Peel)  female  35.0      1   \n",
            "4                           Allen, Mr. William Henry    male  35.0      0   \n",
            "\n",
            "   Parch            Ticket     Fare Cabin Embarked  AgeGroup_Child  \\\n",
            "0      0         A/5 21171   7.2500   NaN        S           False   \n",
            "1      0          PC 17599  71.2833   C85        C           False   \n",
            "2      0  STON/O2. 3101282   7.9250   NaN        S           False   \n",
            "3      0            113803  53.1000  C123        S           False   \n",
            "4      0            373450   8.0500   NaN        S           False   \n",
            "\n",
            "   AgeGroup_Teenager  AgeGroup_Adult  AgeGroup_Middle-aged  AgeGroup_Senior  \n",
            "0              False            True                 False            False  \n",
            "1              False           False                  True            False  \n",
            "2              False            True                 False            False  \n",
            "3              False            True                 False            False  \n",
            "4              False            True                 False            False  \n"
          ]
        }
      ]
    }
  ]
}