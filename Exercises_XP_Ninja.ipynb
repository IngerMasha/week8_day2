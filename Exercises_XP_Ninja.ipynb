{
  "nbformat": 4,
  "nbformat_minor": 0,
  "metadata": {
    "colab": {
      "provenance": [],
      "authorship_tag": "ABX9TyOFeqCTW7LmL28CKASc5TI3",
      "include_colab_link": true
    },
    "kernelspec": {
      "name": "python3",
      "display_name": "Python 3"
    },
    "language_info": {
      "name": "python"
    }
  },
  "cells": [
    {
      "cell_type": "markdown",
      "metadata": {
        "id": "view-in-github",
        "colab_type": "text"
      },
      "source": [
        "<a href=\"https://colab.research.google.com/github/IngerMasha/week8_day2/blob/main/Exercises_XP_Ninja.ipynb\" target=\"_parent\"><img src=\"https://colab.research.google.com/assets/colab-badge.svg\" alt=\"Open In Colab\"/></a>"
      ]
    },
    {
      "cell_type": "code",
      "execution_count": 1,
      "metadata": {
        "colab": {
          "base_uri": "https://localhost:8080/"
        },
        "id": "5JCtfn8mFPW6",
        "outputId": "d1f7797f-29dd-4983-8720-a291fd6cbe73"
      },
      "outputs": [
        {
          "output_type": "stream",
          "name": "stdout",
          "text": [
            "First rows DataFrame:\n",
            "     id                                              name  host_id  \\\n",
            "0  2539                Clean & quiet apt home by the park     2787   \n",
            "1  2595                             Skylit Midtown Castle     2845   \n",
            "2  3647               THE VILLAGE OF HARLEM....NEW YORK !     4632   \n",
            "3  3831                   Cozy Entire Floor of Brownstone     4869   \n",
            "4  5022  Entire Apt: Spacious Studio/Loft by central park     7192   \n",
            "\n",
            "     host_name neighbourhood_group neighbourhood  latitude  longitude  \\\n",
            "0         John            Brooklyn    Kensington  40.64749  -73.97237   \n",
            "1     Jennifer           Manhattan       Midtown  40.75362  -73.98377   \n",
            "2    Elisabeth           Manhattan        Harlem  40.80902  -73.94190   \n",
            "3  LisaRoxanne            Brooklyn  Clinton Hill  40.68514  -73.95976   \n",
            "4        Laura           Manhattan   East Harlem  40.79851  -73.94399   \n",
            "\n",
            "         room_type  price  minimum_nights  number_of_reviews last_review  \\\n",
            "0     Private room    149               1                  9  2018-10-19   \n",
            "1  Entire home/apt    225               1                 45  2019-05-21   \n",
            "2     Private room    150               3                  0         NaN   \n",
            "3  Entire home/apt     89               1                270  2019-07-05   \n",
            "4  Entire home/apt     80              10                  9  2018-11-19   \n",
            "\n",
            "   reviews_per_month  calculated_host_listings_count  availability_365  \n",
            "0               0.21                               6               365  \n",
            "1               0.38                               2               355  \n",
            "2                NaN                               1               365  \n",
            "3               4.64                               1               194  \n",
            "4               0.10                               1                 0  \n"
          ]
        }
      ],
      "source": [
        "import pandas as pd\n",
        "data=pd.read_csv('/content/AB_NYC_2019.csv')\n",
        "print(\"First rows DataFrame:\")\n",
        "print(data.head())"
      ]
    },
    {
      "cell_type": "code",
      "source": [
        "from sklearn.impute import KNNImputer\n",
        "\n",
        "imputer = KNNImputer()\n",
        "numerical_columns = ['price', 'number_of_reviews', 'availability_365']\n",
        "data[numerical_columns] = imputer.fit_transform(data[numerical_columns])\n",
        "print(\"Missing values handled using KNN imputation.\")\n",
        "print(data[numerical_columns].isnull().sum())\n",
        "\n"
      ],
      "metadata": {
        "colab": {
          "base_uri": "https://localhost:8080/"
        },
        "id": "ivWnto82F7Ok",
        "outputId": "8a719cf4-f346-48bc-804a-9579caa6f6ec"
      },
      "execution_count": 7,
      "outputs": [
        {
          "output_type": "stream",
          "name": "stdout",
          "text": [
            "Missing values handled using KNN imputation.\n",
            "price                0\n",
            "number_of_reviews    0\n",
            "availability_365     0\n",
            "dtype: int64\n"
          ]
        }
      ]
    },
    {
      "cell_type": "code",
      "source": [
        "import numpy as np\n",
        "\n",
        "def handle_outliers(df, column):\n",
        "    Q1 = df[column].quantile(0.25)\n",
        "    Q3 = df[column].quantile(0.75)\n",
        "    IQR = Q3 - Q1\n",
        "    lower_bound = Q1 - 1.5 * IQR\n",
        "    upper_bound = Q3 + 1.5 * IQR\n",
        "    df[column] = np.where(df[column] < lower_bound, lower_bound, df[column])\n",
        "    df[column] = np.where(df[column] > upper_bound, upper_bound, df[column])\n",
        "\n",
        "handle_outliers(data, 'price')\n",
        "handle_outliers(data, 'number_of_reviews')\n",
        "print(\"Outliers in 'price' and 'number_of_reviews' treated.\")\n",
        "print(data[['price', 'number_of_reviews']].describe())\n",
        "data['booking_rate'] = data['number_of_reviews'] / data['availability_365']\n",
        "print(\"\\nNew features created.\")\n",
        "print(data[['booking_rate']].head())\n"
      ],
      "metadata": {
        "colab": {
          "base_uri": "https://localhost:8080/"
        },
        "id": "pax2v73uGH9q",
        "outputId": "df3e4149-9ab1-49ee-d055-438847df34c1"
      },
      "execution_count": 14,
      "outputs": [
        {
          "output_type": "stream",
          "name": "stdout",
          "text": [
            "Outliers in 'price' and 'number_of_reviews' treated.\n",
            "              price  number_of_reviews\n",
            "count  48895.000000        48895.00000\n",
            "mean     132.979753           15.67419\n",
            "std       83.530504           20.34953\n",
            "min        0.000000            0.00000\n",
            "25%       69.000000            1.00000\n",
            "50%      106.000000            5.00000\n",
            "75%      175.000000           24.00000\n",
            "max      334.000000           58.50000\n",
            "\n",
            "New features created.\n",
            "   booking_rate\n",
            "0      0.024658\n",
            "1      0.126761\n",
            "2      0.000000\n",
            "3      0.301546\n",
            "4           inf\n"
          ]
        }
      ]
    },
    {
      "cell_type": "markdown",
      "source": [
        "I don’t understand what to do next, how to calculate the price_per_person if there is no information about the number of guests."
      ],
      "metadata": {
        "id": "TcehwidKKuny"
      }
    },
    {
      "cell_type": "markdown",
      "source": [
        "Exercise 2: Complex Data Integration And Transformation"
      ],
      "metadata": {
        "id": "Kok_ZePMMU4Y"
      }
    },
    {
      "cell_type": "code",
      "source": [
        "import pandas as pd\n",
        "happy_data=pd.read_csv('/content/WorldHappinessReport2015.csv')\n",
        "print(\"First rows DataFrame:\")\n",
        "print(happy_data.head())"
      ],
      "metadata": {
        "colab": {
          "base_uri": "https://localhost:8080/"
        },
        "id": "DtNr0XYvMbOu",
        "outputId": "3f261514-e524-435b-cc4f-843a72ba3776"
      },
      "execution_count": 15,
      "outputs": [
        {
          "output_type": "stream",
          "name": "stdout",
          "text": [
            "First rows DataFrame:\n",
            "       Country          Region  Happiness Rank  Happiness Score  \\\n",
            "0  Switzerland  Western Europe               1            7.587   \n",
            "1      Iceland  Western Europe               2            7.561   \n",
            "2      Denmark  Western Europe               3            7.527   \n",
            "3       Norway  Western Europe               4            7.522   \n",
            "4       Canada   North America               5            7.427   \n",
            "\n",
            "   Standard Error  Economy (GDP per Capita)   Family  \\\n",
            "0         0.03411                   1.39651  1.34951   \n",
            "1         0.04884                   1.30232  1.40223   \n",
            "2         0.03328                   1.32548  1.36058   \n",
            "3         0.03880                   1.45900  1.33095   \n",
            "4         0.03553                   1.32629  1.32261   \n",
            "\n",
            "   Health (Life Expectancy)  Freedom  Trust (Government Corruption)  \\\n",
            "0                   0.94143  0.66557                        0.41978   \n",
            "1                   0.94784  0.62877                        0.14145   \n",
            "2                   0.87464  0.64938                        0.48357   \n",
            "3                   0.88521  0.66973                        0.36503   \n",
            "4                   0.90563  0.63297                        0.32957   \n",
            "\n",
            "   Generosity  Dystopia Residual  \n",
            "0     0.29678            2.51738  \n",
            "1     0.43630            2.70201  \n",
            "2     0.34139            2.49204  \n",
            "3     0.34699            2.46531  \n",
            "4     0.45811            2.45176  \n"
          ]
        }
      ]
    },
    {
      "cell_type": "code",
      "source": [
        "health_data=pd.read_csv('/content/30-70cancerChdEtc.csv')\n",
        "print(\"First rows DataFrame:\")\n",
        "# print(health_data.head())\n",
        "health_data.rename(columns={'Location': 'Country'}, inplace=True)\n",
        "merged_data = pd.merge(happy_data, health_data, on='Country')\n",
        "print(health_data.head())\n",
        "print(\"\\nFirst rows mergedDataFrame:\")\n",
        "print(merged_data.head())"
      ],
      "metadata": {
        "colab": {
          "base_uri": "https://localhost:8080/"
        },
        "id": "e92n0QxBM2D8",
        "outputId": "d674ea0c-9ee3-44ac-9882-4da7888d80e4"
      },
      "execution_count": 24,
      "outputs": [
        {
          "output_type": "stream",
          "name": "stdout",
          "text": [
            "First rows DataFrame:\n",
            "       Country  Period                                          Indicator  \\\n",
            "0  Afghanistan    2016  Probability (%) of dying between age 30 and ex...   \n",
            "1  Afghanistan    2016  Probability (%) of dying between age 30 and ex...   \n",
            "2  Afghanistan    2016  Probability (%) of dying between age 30 and ex...   \n",
            "3  Afghanistan    2015  Probability (%) of dying between age 30 and ex...   \n",
            "4  Afghanistan    2015  Probability (%) of dying between age 30 and ex...   \n",
            "\n",
            "         Dim1  First Tooltip  \n",
            "0  Both sexes           29.8  \n",
            "1        Male           31.8  \n",
            "2      Female           27.7  \n",
            "3  Both sexes           29.8  \n",
            "4        Male           31.9  \n",
            "\n",
            "First rows mergedDataFrame:\n",
            "       Country          Region  Happiness Rank  Happiness Score  \\\n",
            "0  Switzerland  Western Europe               1            7.587   \n",
            "1  Switzerland  Western Europe               1            7.587   \n",
            "2  Switzerland  Western Europe               1            7.587   \n",
            "3  Switzerland  Western Europe               1            7.587   \n",
            "4  Switzerland  Western Europe               1            7.587   \n",
            "\n",
            "   Standard Error  Economy (GDP per Capita)   Family  \\\n",
            "0         0.03411                   1.39651  1.34951   \n",
            "1         0.03411                   1.39651  1.34951   \n",
            "2         0.03411                   1.39651  1.34951   \n",
            "3         0.03411                   1.39651  1.34951   \n",
            "4         0.03411                   1.39651  1.34951   \n",
            "\n",
            "   Health (Life Expectancy)  Freedom  Trust (Government Corruption)  \\\n",
            "0                   0.94143  0.66557                        0.41978   \n",
            "1                   0.94143  0.66557                        0.41978   \n",
            "2                   0.94143  0.66557                        0.41978   \n",
            "3                   0.94143  0.66557                        0.41978   \n",
            "4                   0.94143  0.66557                        0.41978   \n",
            "\n",
            "   Generosity  Dystopia Residual  Period  \\\n",
            "0     0.29678            2.51738    2016   \n",
            "1     0.29678            2.51738    2016   \n",
            "2     0.29678            2.51738    2016   \n",
            "3     0.29678            2.51738    2015   \n",
            "4     0.29678            2.51738    2015   \n",
            "\n",
            "                                           Indicator        Dim1  \\\n",
            "0  Probability (%) of dying between age 30 and ex...  Both sexes   \n",
            "1  Probability (%) of dying between age 30 and ex...        Male   \n",
            "2  Probability (%) of dying between age 30 and ex...      Female   \n",
            "3  Probability (%) of dying between age 30 and ex...  Both sexes   \n",
            "4  Probability (%) of dying between age 30 and ex...        Male   \n",
            "\n",
            "   First Tooltip  \n",
            "0            8.6  \n",
            "1           10.6  \n",
            "2            6.6  \n",
            "3            8.7  \n",
            "4           10.8  \n"
          ]
        }
      ]
    },
    {
      "cell_type": "code",
      "source": [
        "from sklearn.preprocessing import StandardScaler\n",
        "\n",
        "numerical_columns = ['Economy (GDP per Capita)', 'Family', 'Health (Life Expectancy)',\n",
        "                     'Freedom', 'Trust (Government Corruption)', 'Generosity', 'Dystopia Residual',\n",
        "                     'First Tooltip']  # Adjust numerical columns as per your dataset\n",
        "\n",
        "scaler = StandardScaler()\n",
        "merged_data[numerical_columns] = scaler.fit_transform(merged_data[numerical_columns])\n",
        "print(\"Step 4: Numerical columns normalized. Data preview:\")\n",
        "print(merged_data[numerical_columns].head())\n"
      ],
      "metadata": {
        "colab": {
          "base_uri": "https://localhost:8080/"
        },
        "id": "PyeuVr1yOcup",
        "outputId": "61996398-2717-496b-b5e2-2e20c8ff894d"
      },
      "execution_count": 26,
      "outputs": [
        {
          "output_type": "stream",
          "name": "stdout",
          "text": [
            "Step 4: Numerical columns normalized. Data preview:\n",
            "   Economy (GDP per Capita)    Family  Health (Life Expectancy)   Freedom  \\\n",
            "0                  1.346289  1.260476                  1.276133  1.524318   \n",
            "1                  1.346289  1.260476                  1.276133  1.524318   \n",
            "2                  1.346289  1.260476                  1.276133  1.524318   \n",
            "3                  1.346289  1.260476                  1.276133  1.524318   \n",
            "4                  1.346289  1.260476                  1.276133  1.524318   \n",
            "\n",
            "   Trust (Government Corruption)  Generosity  Dystopia Residual  First Tooltip  \n",
            "0                       2.240922    0.513314           0.792658      -1.612826  \n",
            "1                       2.240922    0.513314           0.792658      -1.327913  \n",
            "2                       2.240922    0.513314           0.792658      -1.897738  \n",
            "3                       2.240922    0.513314           0.792658      -1.598580  \n",
            "4                       2.240922    0.513314           0.792658      -1.299421  \n"
          ]
        }
      ]
    },
    {
      "cell_type": "code",
      "source": [
        "from sklearn.decomposition import PCA\n",
        "\n",
        "pca_columns = ['Economy (GDP per Capita)', 'Family', 'Health (Life Expectancy)']\n",
        "\n",
        "pca = PCA(n_components=2)\n",
        "pca_result = pca.fit_transform(merged_data[pca_columns])\n",
        "\n",
        "merged_data['PCA_Component1'] = pca_result[:, 0]\n",
        "merged_data['PCA_Component2'] = pca_result[:, 1]\n",
        "\n",
        "print(\"\\nPCA applied for dimensionality reduction. Data preview with PCA components:\")\n",
        "print(merged_data[['PCA_Component1', 'PCA_Component2']].head())"
      ],
      "metadata": {
        "colab": {
          "base_uri": "https://localhost:8080/"
        },
        "id": "krcTTo-gPKBw",
        "outputId": "546c2482-b1f6-4df9-c8e1-fd9a6775d537"
      },
      "execution_count": 27,
      "outputs": [
        {
          "output_type": "stream",
          "name": "stdout",
          "text": [
            "\n",
            "PCA applied for dimensionality reduction. Data preview with PCA components:\n",
            "   PCA_Component1  PCA_Component2\n",
            "0       -2.241831       -0.063127\n",
            "1       -2.241831       -0.063127\n",
            "2       -2.241831       -0.063127\n",
            "3       -2.241831       -0.063127\n",
            "4       -2.241831       -0.063127\n"
          ]
        }
      ]
    },
    {
      "cell_type": "code",
      "source": [
        "plt.figure(figsize=(10, 6))\n",
        "plt.scatter(merged_data['Health (Life Expectancy)'], merged_data['Economy (GDP per Capita)'], label='Original Data')\n",
        "plt.scatter(merged_data['PCA_Component1'], merged_data['PCA_Component2'], label='PCA Transformed Data')\n",
        "plt.title('PCA Transformation: Original vs Transformed Data')\n",
        "plt.xlabel('Health (Life Expectancy) / PCA Component 1')\n",
        "plt.ylabel('Economy (GDP per Capita) / PCA Component 2')\n",
        "plt.legend()\n",
        "plt.show()"
      ],
      "metadata": {
        "colab": {
          "base_uri": "https://localhost:8080/",
          "height": 564
        },
        "id": "XSHN9R5iPYUY",
        "outputId": "28255a11-e1e1-4a56-969b-5996f24b249a"
      },
      "execution_count": 28,
      "outputs": [
        {
          "output_type": "display_data",
          "data": {
            "text/plain": [
              "<Figure size 1000x600 with 1 Axes>"
            ],
            "image/png": "[encoded data removed]"
          },
          "metadata": {}
        }
      ]
    },
    {
      "cell_type": "code",
      "source": [],
      "metadata": {
        "id": "zRPJfdWjTDnI"
      },
      "execution_count": null,
      "outputs": []
    }
  ]
}